{
  "cells": [
    {
      "cell_type": "markdown",
      "source": [
        "# Divisão dos dados\n",
        "\n",
        "Nesse notebook, iremos realizar a segmentação dos sinais de EEG para inserção dos dados nas redes neurais\n",
        "\n",
        "---"
      ],
      "metadata": {
        "id": "Gq86TSNGJTnd"
      }
    },
    {
      "cell_type": "markdown",
      "source": [
        "##Importação dos dados\n",
        "\n",
        "\n",
        "Os dados são importados do site [Physionet](https://physionet.org/static/published-projects/eegmat/eeg-during-mental-arithmetic-tasks-1.0.0.zip)"
      ],
      "metadata": {
        "id": "DdM2owSBJ19V"
      }
    },
    {
      "cell_type": "code",
      "source": [
        "from google.colab import drive\n",
        "drive.mount('/content/drive')"
      ],
      "metadata": {
        "id": "BCn6sq_zJCCN",
        "outputId": "571fa0d2-72f1-41ac-d538-15cfa80250e8",
        "colab": {
          "base_uri": "https://localhost:8080/",
          "height": 330
        }
      },
      "execution_count": null,
      "outputs": [
        {
          "output_type": "error",
          "ename": "MessageError",
          "evalue": "ignored",
          "traceback": [
            "\u001b[0;31m---------------------------------------------------------------------------\u001b[0m",
            "\u001b[0;31mMessageError\u001b[0m                              Traceback (most recent call last)",
            "\u001b[0;32m<ipython-input-1-d5df0069828e>\u001b[0m in \u001b[0;36m<cell line: 2>\u001b[0;34m()\u001b[0m\n\u001b[1;32m      1\u001b[0m \u001b[0;32mfrom\u001b[0m \u001b[0mgoogle\u001b[0m\u001b[0;34m.\u001b[0m\u001b[0mcolab\u001b[0m \u001b[0;32mimport\u001b[0m \u001b[0mdrive\u001b[0m\u001b[0;34m\u001b[0m\u001b[0;34m\u001b[0m\u001b[0m\n\u001b[0;32m----> 2\u001b[0;31m \u001b[0mdrive\u001b[0m\u001b[0;34m.\u001b[0m\u001b[0mmount\u001b[0m\u001b[0;34m(\u001b[0m\u001b[0;34m'/content/drive'\u001b[0m\u001b[0;34m)\u001b[0m\u001b[0;34m\u001b[0m\u001b[0;34m\u001b[0m\u001b[0m\n\u001b[0m",
            "\u001b[0;32m/usr/local/lib/python3.10/dist-packages/google/colab/drive.py\u001b[0m in \u001b[0;36mmount\u001b[0;34m(mountpoint, force_remount, timeout_ms, readonly)\u001b[0m\n\u001b[1;32m    101\u001b[0m \u001b[0;32mdef\u001b[0m \u001b[0mmount\u001b[0m\u001b[0;34m(\u001b[0m\u001b[0mmountpoint\u001b[0m\u001b[0;34m,\u001b[0m \u001b[0mforce_remount\u001b[0m\u001b[0;34m=\u001b[0m\u001b[0;32mFalse\u001b[0m\u001b[0;34m,\u001b[0m \u001b[0mtimeout_ms\u001b[0m\u001b[0;34m=\u001b[0m\u001b[0;36m120000\u001b[0m\u001b[0;34m,\u001b[0m \u001b[0mreadonly\u001b[0m\u001b[0;34m=\u001b[0m\u001b[0;32mFalse\u001b[0m\u001b[0;34m)\u001b[0m\u001b[0;34m:\u001b[0m\u001b[0;34m\u001b[0m\u001b[0;34m\u001b[0m\u001b[0m\n\u001b[1;32m    102\u001b[0m   \u001b[0;34m\"\"\"Mount your Google Drive at the specified mountpoint path.\"\"\"\u001b[0m\u001b[0;34m\u001b[0m\u001b[0;34m\u001b[0m\u001b[0m\n\u001b[0;32m--> 103\u001b[0;31m   return _mount(\n\u001b[0m\u001b[1;32m    104\u001b[0m       \u001b[0mmountpoint\u001b[0m\u001b[0;34m,\u001b[0m\u001b[0;34m\u001b[0m\u001b[0;34m\u001b[0m\u001b[0m\n\u001b[1;32m    105\u001b[0m       \u001b[0mforce_remount\u001b[0m\u001b[0;34m=\u001b[0m\u001b[0mforce_remount\u001b[0m\u001b[0;34m,\u001b[0m\u001b[0;34m\u001b[0m\u001b[0;34m\u001b[0m\u001b[0m\n",
            "\u001b[0;32m/usr/local/lib/python3.10/dist-packages/google/colab/drive.py\u001b[0m in \u001b[0;36m_mount\u001b[0;34m(mountpoint, force_remount, timeout_ms, ephemeral, readonly)\u001b[0m\n\u001b[1;32m    130\u001b[0m   )\n\u001b[1;32m    131\u001b[0m   \u001b[0;32mif\u001b[0m \u001b[0mephemeral\u001b[0m\u001b[0;34m:\u001b[0m\u001b[0;34m\u001b[0m\u001b[0;34m\u001b[0m\u001b[0m\n\u001b[0;32m--> 132\u001b[0;31m     _message.blocking_request(\n\u001b[0m\u001b[1;32m    133\u001b[0m         \u001b[0;34m'request_auth'\u001b[0m\u001b[0;34m,\u001b[0m \u001b[0mrequest\u001b[0m\u001b[0;34m=\u001b[0m\u001b[0;34m{\u001b[0m\u001b[0;34m'authType'\u001b[0m\u001b[0;34m:\u001b[0m \u001b[0;34m'dfs_ephemeral'\u001b[0m\u001b[0;34m}\u001b[0m\u001b[0;34m,\u001b[0m \u001b[0mtimeout_sec\u001b[0m\u001b[0;34m=\u001b[0m\u001b[0;32mNone\u001b[0m\u001b[0;34m\u001b[0m\u001b[0;34m\u001b[0m\u001b[0m\n\u001b[1;32m    134\u001b[0m     )\n",
            "\u001b[0;32m/usr/local/lib/python3.10/dist-packages/google/colab/_message.py\u001b[0m in \u001b[0;36mblocking_request\u001b[0;34m(request_type, request, timeout_sec, parent)\u001b[0m\n\u001b[1;32m    174\u001b[0m       \u001b[0mrequest_type\u001b[0m\u001b[0;34m,\u001b[0m \u001b[0mrequest\u001b[0m\u001b[0;34m,\u001b[0m \u001b[0mparent\u001b[0m\u001b[0;34m=\u001b[0m\u001b[0mparent\u001b[0m\u001b[0;34m,\u001b[0m \u001b[0mexpect_reply\u001b[0m\u001b[0;34m=\u001b[0m\u001b[0;32mTrue\u001b[0m\u001b[0;34m\u001b[0m\u001b[0;34m\u001b[0m\u001b[0m\n\u001b[1;32m    175\u001b[0m   )\n\u001b[0;32m--> 176\u001b[0;31m   \u001b[0;32mreturn\u001b[0m \u001b[0mread_reply_from_input\u001b[0m\u001b[0;34m(\u001b[0m\u001b[0mrequest_id\u001b[0m\u001b[0;34m,\u001b[0m \u001b[0mtimeout_sec\u001b[0m\u001b[0;34m)\u001b[0m\u001b[0;34m\u001b[0m\u001b[0;34m\u001b[0m\u001b[0m\n\u001b[0m",
            "\u001b[0;32m/usr/local/lib/python3.10/dist-packages/google/colab/_message.py\u001b[0m in \u001b[0;36mread_reply_from_input\u001b[0;34m(message_id, timeout_sec)\u001b[0m\n\u001b[1;32m    101\u001b[0m     ):\n\u001b[1;32m    102\u001b[0m       \u001b[0;32mif\u001b[0m \u001b[0;34m'error'\u001b[0m \u001b[0;32min\u001b[0m \u001b[0mreply\u001b[0m\u001b[0;34m:\u001b[0m\u001b[0;34m\u001b[0m\u001b[0;34m\u001b[0m\u001b[0m\n\u001b[0;32m--> 103\u001b[0;31m         \u001b[0;32mraise\u001b[0m \u001b[0mMessageError\u001b[0m\u001b[0;34m(\u001b[0m\u001b[0mreply\u001b[0m\u001b[0;34m[\u001b[0m\u001b[0;34m'error'\u001b[0m\u001b[0;34m]\u001b[0m\u001b[0;34m)\u001b[0m\u001b[0;34m\u001b[0m\u001b[0;34m\u001b[0m\u001b[0m\n\u001b[0m\u001b[1;32m    104\u001b[0m       \u001b[0;32mreturn\u001b[0m \u001b[0mreply\u001b[0m\u001b[0;34m.\u001b[0m\u001b[0mget\u001b[0m\u001b[0;34m(\u001b[0m\u001b[0;34m'data'\u001b[0m\u001b[0;34m,\u001b[0m \u001b[0;32mNone\u001b[0m\u001b[0;34m)\u001b[0m\u001b[0;34m\u001b[0m\u001b[0;34m\u001b[0m\u001b[0m\n\u001b[1;32m    105\u001b[0m \u001b[0;34m\u001b[0m\u001b[0m\n",
            "\u001b[0;31mMessageError\u001b[0m: Error: credential propagation was unsuccessful"
          ]
        }
      ]
    },
    {
      "cell_type": "code",
      "execution_count": null,
      "metadata": {
        "id": "4HbWBzAYZb7U"
      },
      "outputs": [],
      "source": [
        "!mkdir -p \"/EEG-data\""
      ]
    },
    {
      "cell_type": "code",
      "execution_count": null,
      "metadata": {
        "colab": {
          "base_uri": "https://localhost:8080/"
        },
        "id": "MUv1l8q_n0Qb",
        "outputId": "f26c52a7-a018-43e6-d681-036cceae3c89"
      },
      "outputs": [
        {
          "output_type": "stream",
          "name": "stdout",
          "text": [
            "--2022-07-28 02:14:22--  https://physionet.org/static/published-projects/eegmat/eeg-during-mental-arithmetic-tasks-1.0.0.zip\n",
            "Resolving physionet.org (physionet.org)... 18.18.42.54\n",
            "Connecting to physionet.org (physionet.org)|18.18.42.54|:443... connected.\n",
            "HTTP request sent, awaiting response... 200 OK\n",
            "Length: 183634285 (175M) [application/zip]\n",
            "Saving to: ‘/EEG-data/eeg-during-mental-arithmetic-tasks-1.0.0.zip.2’\n",
            "\n",
            "eeg-during-mental-a 100%[===================>] 175.13M  4.94MB/s    in 40s     \n",
            "\n",
            "2022-07-28 02:15:03 (4.33 MB/s) - ‘/EEG-data/eeg-during-mental-arithmetic-tasks-1.0.0.zip.2’ saved [183634285/183634285]\n",
            "\n"
          ]
        }
      ],
      "source": [
        "!wget -P \"/EEG-data\" https://physionet.org/static/published-projects/eegmat/eeg-during-mental-arithmetic-tasks-1.0.0.zip"
      ]
    },
    {
      "cell_type": "code",
      "execution_count": null,
      "metadata": {
        "colab": {
          "base_uri": "https://localhost:8080/"
        },
        "id": "FcCUO57Tn0TC",
        "outputId": "dcb6a996-6a56-4100-8222-022c27ccd9b9"
      },
      "outputs": [
        {
          "output_type": "stream",
          "name": "stdout",
          "text": [
            "Looking in indexes: https://pypi.org/simple, https://us-python.pkg.dev/colab-wheels/public/simple/\n",
            "Requirement already satisfied: pyEDFlib in /usr/local/lib/python3.7/dist-packages (0.1.30)\n",
            "Requirement already satisfied: numpy>=1.9.1 in /usr/local/lib/python3.7/dist-packages (from pyEDFlib) (1.21.6)\n"
          ]
        }
      ],
      "source": [
        "!pip install pyEDFlib"
      ]
    },
    {
      "cell_type": "code",
      "execution_count": null,
      "metadata": {
        "id": "apEn7w73n0Vn"
      },
      "outputs": [],
      "source": [
        "import pandas as pd\n",
        "import zipfile\n",
        "import matplotlib.pyplot as plt\n",
        "import numpy as np\n",
        "import keras\n",
        "import seaborn as sns\n",
        "import pyedflib\n",
        "import scipy as sp\n",
        "from scipy import signal\n",
        "import tensorflow as tf"
      ]
    },
    {
      "cell_type": "code",
      "execution_count": null,
      "metadata": {
        "colab": {
          "base_uri": "https://localhost:8080/"
        },
        "id": "RMRQXm08n0Yc",
        "outputId": "d79d134c-cc82-4c71-b271-d39f3125d52a"
      },
      "outputs": [
        {
          "output_type": "stream",
          "name": "stdout",
          "text": [
            "eeg-during-mental-arithmetic-tasks-1.0.0/Subject29_2.edf\n",
            "eeg-during-mental-arithmetic-tasks-1.0.0/Subject24_1.edf\n",
            "eeg-during-mental-arithmetic-tasks-1.0.0/Subject12_2.edf\n",
            "eeg-during-mental-arithmetic-tasks-1.0.0/Subject02_2.edf\n",
            "eeg-during-mental-arithmetic-tasks-1.0.0/Subject15_1.edf\n",
            "eeg-during-mental-arithmetic-tasks-1.0.0/Subject16_1.edf\n",
            "eeg-during-mental-arithmetic-tasks-1.0.0/Subject08_1.edf\n",
            "eeg-during-mental-arithmetic-tasks-1.0.0/SHA256SUMS.txt\n",
            "eeg-during-mental-arithmetic-tasks-1.0.0/Subject34_2.edf\n",
            "eeg-during-mental-arithmetic-tasks-1.0.0/Subject32_1.edf\n",
            "eeg-during-mental-arithmetic-tasks-1.0.0/Subject18_1.edf\n",
            "eeg-during-mental-arithmetic-tasks-1.0.0/Subject27_1.edf\n",
            "eeg-during-mental-arithmetic-tasks-1.0.0/Subject17_1.edf\n",
            "eeg-during-mental-arithmetic-tasks-1.0.0/Subject31_2.edf\n",
            "eeg-during-mental-arithmetic-tasks-1.0.0/RECORDS\n",
            "eeg-during-mental-arithmetic-tasks-1.0.0/Subject00_1.edf\n",
            "eeg-during-mental-arithmetic-tasks-1.0.0/Subject22_1.edf\n",
            "eeg-during-mental-arithmetic-tasks-1.0.0/Subject13_2.edf\n",
            "eeg-during-mental-arithmetic-tasks-1.0.0/Subject03_2.edf\n",
            "eeg-during-mental-arithmetic-tasks-1.0.0/Subject05_1.edf\n",
            "eeg-during-mental-arithmetic-tasks-1.0.0/Subject35_1.edf\n",
            "eeg-during-mental-arithmetic-tasks-1.0.0/Subject33_2.edf\n",
            "eeg-during-mental-arithmetic-tasks-1.0.0/Subject22_2.edf\n",
            "eeg-during-mental-arithmetic-tasks-1.0.0/Subject21_1.edf\n",
            "eeg-during-mental-arithmetic-tasks-1.0.0/Subject05_2.edf\n",
            "eeg-during-mental-arithmetic-tasks-1.0.0/Subject01_1.edf\n",
            "eeg-during-mental-arithmetic-tasks-1.0.0/Subject07_1.edf\n",
            "eeg-during-mental-arithmetic-tasks-1.0.0/Subject04_1.edf\n",
            "eeg-during-mental-arithmetic-tasks-1.0.0/Subject01_2.edf\n",
            "eeg-during-mental-arithmetic-tasks-1.0.0/Subject34_1.edf\n",
            "eeg-during-mental-arithmetic-tasks-1.0.0/Subject14_2.edf\n",
            "eeg-during-mental-arithmetic-tasks-1.0.0/Subject20_2.edf\n",
            "eeg-during-mental-arithmetic-tasks-1.0.0/Subject29_1.edf\n",
            "eeg-during-mental-arithmetic-tasks-1.0.0/Subject10_1.edf\n",
            "eeg-during-mental-arithmetic-tasks-1.0.0/Subject19_2.edf\n",
            "eeg-during-mental-arithmetic-tasks-1.0.0/Subject10_2.edf\n",
            "eeg-during-mental-arithmetic-tasks-1.0.0/Subject33_1.edf\n",
            "eeg-during-mental-arithmetic-tasks-1.0.0/subject-info.csv\n",
            "eeg-during-mental-arithmetic-tasks-1.0.0/Subject11_1.edf\n",
            "eeg-during-mental-arithmetic-tasks-1.0.0/Subject30_2.edf\n",
            "eeg-during-mental-arithmetic-tasks-1.0.0/Subject26_2.edf\n",
            "eeg-during-mental-arithmetic-tasks-1.0.0/Subject30_1.edf\n",
            "eeg-during-mental-arithmetic-tasks-1.0.0/README.txt\n",
            "eeg-during-mental-arithmetic-tasks-1.0.0/Subject19_1.edf\n",
            "eeg-during-mental-arithmetic-tasks-1.0.0/Subject25_2.edf\n",
            "eeg-during-mental-arithmetic-tasks-1.0.0/Subject23_2.edf\n",
            "eeg-during-mental-arithmetic-tasks-1.0.0/Subject18_2.edf\n",
            "eeg-during-mental-arithmetic-tasks-1.0.0/Subject11_2.edf\n",
            "eeg-during-mental-arithmetic-tasks-1.0.0/Subject28_2.edf\n",
            "eeg-during-mental-arithmetic-tasks-1.0.0/Subject08_2.edf\n",
            "eeg-during-mental-arithmetic-tasks-1.0.0/Subject02_1.edf\n",
            "eeg-during-mental-arithmetic-tasks-1.0.0/Subject17_2.edf\n",
            "eeg-during-mental-arithmetic-tasks-1.0.0/Subject09_1.edf\n",
            "eeg-during-mental-arithmetic-tasks-1.0.0/Subject20_1.edf\n",
            "eeg-during-mental-arithmetic-tasks-1.0.0/Subject21_2.edf\n",
            "eeg-during-mental-arithmetic-tasks-1.0.0/Subject32_2.edf\n",
            "eeg-during-mental-arithmetic-tasks-1.0.0/Subject25_1.edf\n",
            "eeg-during-mental-arithmetic-tasks-1.0.0/Subject13_1.edf\n",
            "eeg-during-mental-arithmetic-tasks-1.0.0/Subject09_2.edf\n",
            "eeg-during-mental-arithmetic-tasks-1.0.0/Subject06_2.edf\n",
            "eeg-during-mental-arithmetic-tasks-1.0.0/Subject28_1.edf\n",
            "eeg-during-mental-arithmetic-tasks-1.0.0/Subject07_2.edf\n",
            "eeg-during-mental-arithmetic-tasks-1.0.0/Subject26_1.edf\n",
            "eeg-during-mental-arithmetic-tasks-1.0.0/Subject04_2.edf\n",
            "eeg-during-mental-arithmetic-tasks-1.0.0/Subject12_1.edf\n",
            "eeg-during-mental-arithmetic-tasks-1.0.0/Subject16_2.edf\n",
            "eeg-during-mental-arithmetic-tasks-1.0.0/Subject06_1.edf\n",
            "eeg-during-mental-arithmetic-tasks-1.0.0/Subject27_2.edf\n",
            "eeg-during-mental-arithmetic-tasks-1.0.0/Subject03_1.edf\n",
            "eeg-during-mental-arithmetic-tasks-1.0.0/Subject14_1.edf\n",
            "eeg-during-mental-arithmetic-tasks-1.0.0/Subject24_2.edf\n",
            "eeg-during-mental-arithmetic-tasks-1.0.0/Subject23_1.edf\n",
            "eeg-during-mental-arithmetic-tasks-1.0.0/Subject31_1.edf\n",
            "eeg-during-mental-arithmetic-tasks-1.0.0/Subject15_2.edf\n",
            "eeg-during-mental-arithmetic-tasks-1.0.0/Subject35_2.edf\n",
            "eeg-during-mental-arithmetic-tasks-1.0.0/Subject00_2.edf\n"
          ]
        }
      ],
      "source": [
        "with zipfile.ZipFile(\"/EEG-data/eeg-during-mental-arithmetic-tasks-1.0.0.zip\") as z:\n",
        "    print(*z.namelist(), sep = \"\\n\")"
      ]
    },
    {
      "cell_type": "code",
      "execution_count": null,
      "metadata": {
        "id": "JBIODO5Xn0bB"
      },
      "outputs": [],
      "source": [
        "with zipfile.ZipFile(\"/EEG-data/eeg-during-mental-arithmetic-tasks-1.0.0.zip\") as z:\n",
        "    lista_arquivos = z.namelist()"
      ]
    },
    {
      "cell_type": "code",
      "execution_count": null,
      "metadata": {
        "id": "m0WQx1NXn0di"
      },
      "outputs": [],
      "source": [
        "#eliminando arquivos sem utilidade\n",
        "lista_arquivos.remove('eeg-during-mental-arithmetic-tasks-1.0.0/subject-info.csv')\n",
        "lista_arquivos.remove('eeg-during-mental-arithmetic-tasks-1.0.0/SHA256SUMS.txt')\n",
        "lista_arquivos.remove('eeg-during-mental-arithmetic-tasks-1.0.0/README.txt')\n",
        "lista_arquivos.remove('eeg-during-mental-arithmetic-tasks-1.0.0/RECORDS')"
      ]
    },
    {
      "cell_type": "code",
      "execution_count": null,
      "metadata": {
        "id": "ct_ZCw6Zn0f-"
      },
      "outputs": [],
      "source": [
        "#separando os arquivos em antes e durante as perguntas\n",
        "antes = []\n",
        "durante = []\n",
        "\n",
        "for i in lista_arquivos:\n",
        "    if(i.endswith('_2.edf')):\n",
        "        durante.append(i)\n",
        "    else:\n",
        "        antes.append(i)"
      ]
    },
    {
      "cell_type": "code",
      "execution_count": null,
      "metadata": {
        "colab": {
          "base_uri": "https://localhost:8080/",
          "height": 35
        },
        "id": "GTyYdrF5n0im",
        "outputId": "5bdd561c-eac8-46f2-bf4b-31faf7c11d72"
      },
      "outputs": [
        {
          "output_type": "execute_result",
          "data": {
            "text/plain": [
              "'ECG ECG'"
            ],
            "application/vnd.google.colaboratory.intrinsic+json": {
              "type": "string"
            }
          },
          "metadata": {},
          "execution_count": 11
        }
      ],
      "source": [
        "with zipfile.ZipFile(\"/EEG-data/eeg-during-mental-arithmetic-tasks-1.0.0.zip\") as z:\n",
        "    arq = pyedflib.EdfReader(z.extract(antes[0]))\n",
        "    labels = arq.getSignalLabels()\n",
        "    arq.close()\n",
        "labels.pop()"
      ]
    },
    {
      "cell_type": "code",
      "execution_count": null,
      "metadata": {
        "colab": {
          "base_uri": "https://localhost:8080/"
        },
        "id": "Xwz2j6AuKEle",
        "outputId": "e993dbab-f4fd-4823-b7e9-feb600e03903"
      },
      "outputs": [
        {
          "output_type": "execute_result",
          "data": {
            "text/plain": [
              "['EEG Fp1',\n",
              " 'EEG Fp2',\n",
              " 'EEG F3',\n",
              " 'EEG F4',\n",
              " 'EEG F7',\n",
              " 'EEG F8',\n",
              " 'EEG T3',\n",
              " 'EEG T4',\n",
              " 'EEG C3',\n",
              " 'EEG C4',\n",
              " 'EEG T5',\n",
              " 'EEG T6',\n",
              " 'EEG P3',\n",
              " 'EEG P4',\n",
              " 'EEG O1',\n",
              " 'EEG O2',\n",
              " 'EEG Fz',\n",
              " 'EEG Cz',\n",
              " 'EEG Pz',\n",
              " 'EEG A2-A1']"
            ]
          },
          "metadata": {},
          "execution_count": 12
        }
      ],
      "source": [
        "labels"
      ]
    },
    {
      "cell_type": "code",
      "execution_count": null,
      "metadata": {
        "id": "JFom3v1gn0ld"
      },
      "outputs": [],
      "source": [
        "##Coletando os dados de antes as perguntas\n",
        "obs_antes = [None] * 36\n",
        "with zipfile.ZipFile(\"/EEG-data/eeg-during-mental-arithmetic-tasks-1.0.0.zip\") as z:\n",
        "    for i in antes:\n",
        "        arq = pyedflib.EdfReader(z.extract(i))\n",
        "        j = int(i[-8]+i[-7])\n",
        "        x = pd.DataFrame()\n",
        "        for k in range(0,len(labels)):\n",
        "            x[labels[k]] = arq.readSignal(k)\n",
        "        obs_antes[j] = x\n",
        "        arq.close()"
      ]
    },
    {
      "cell_type": "code",
      "execution_count": null,
      "metadata": {
        "id": "y27-N_oXn0ov"
      },
      "outputs": [],
      "source": [
        "##Coletando os dados de durante as perguntas\n",
        "obs_durante = [None] * 36\n",
        "with zipfile.ZipFile(\"/EEG-data/eeg-during-mental-arithmetic-tasks-1.0.0.zip\") as z:\n",
        "    for i in durante:\n",
        "        arq = pyedflib.EdfReader(z.extract(i))\n",
        "        j = int(i[-8]+i[-7])\n",
        "        x = pd.DataFrame()\n",
        "        for k in range(0,len(labels)):\n",
        "            x[labels[k]] = arq.readSignal(k)\n",
        "        obs_durante[j] = x\n",
        "        arq.close()"
      ]
    },
    {
      "cell_type": "markdown",
      "source": [
        "## Tratamento do dataset\n",
        "\n",
        "Inicialmente será aplicado um filtro digital passa-alta de 45Hz e um passa-baixa de 12Hz, ambos de 5ª ordem  "
      ],
      "metadata": {
        "id": "wXDfh8dzLgRj"
      }
    },
    {
      "cell_type": "code",
      "execution_count": null,
      "metadata": {
        "id": "9qUCSoDIrvvE"
      },
      "outputs": [],
      "source": [
        "#Ordem do filtro\n",
        "ord = 5;\n",
        "\n",
        "#Frequencia de corte passa-baixa\n",
        "f_pb = 45\n",
        "\n",
        "#Frequencia de corte passa-alta\n",
        "f_pa = 12\n",
        "\n",
        "#Frequencia de corte normalizada\n",
        "f_pb_n = f_pb/Fs\n",
        "f_pa_n = f_pa/Fs\n",
        "\n",
        "\n",
        "def filtragem(ord,f_pa, f_pb, Fs, signal):\n",
        "  #Pegando os coeficientes de um filtro digital de Butterworth de 5 ordem\n",
        "  b,a = sp.signal.butter(ord,[f_pa_n,f_pb_n],btype='band',analog=False)\n",
        "  #Sinal filtrado\n",
        "  signal_f = sp.signal.filtfilt(b,a,signal)\n",
        "  return signal_f\n",
        "\n",
        "# signal_f = filtragem(ord,f_pa, f_pb, Fs, obs_durante[0][labels[0]])"
      ]
    },
    {
      "cell_type": "code",
      "execution_count": null,
      "metadata": {
        "id": "pNs1RWFwn0rN"
      },
      "outputs": [],
      "source": [
        "#Frequencia e Periodo de amostragem\n",
        "Fs = 500\n",
        "Ts = 1/Fs\n",
        "\n",
        "#Qual intervalo do sinal que vai querer\n",
        "t_o_antes = 0\n",
        "t_f_antes = 180\n",
        "t_o_durante = 0\n",
        "t_f_durante = 60\n",
        "\n",
        "# for i in range(0, len(obs_antes)):\n",
        "#     obs_durante[i] = obs_durante[i].loc[t_o_durante * Fs + 1 : t_f_durante * Fs]\n",
        "#     obs_antes[i] = obs_antes[i].loc[t_o_antes * Fs  + 1 : t_f_antes * Fs]"
      ]
    },
    {
      "cell_type": "code",
      "execution_count": null,
      "metadata": {
        "colab": {
          "base_uri": "https://localhost:8080/"
        },
        "id": "f32ttAdkr1lt",
        "outputId": "e05db14f-6e53-458c-9196-d197349fb35b"
      },
      "outputs": [
        {
          "output_type": "stream",
          "name": "stderr",
          "text": [
            "/usr/local/lib/python3.7/dist-packages/ipykernel_launcher.py:3: SettingWithCopyWarning: \n",
            "A value is trying to be set on a copy of a slice from a DataFrame.\n",
            "Try using .loc[row_indexer,col_indexer] = value instead\n",
            "\n",
            "See the caveats in the documentation: https://pandas.pydata.org/pandas-docs/stable/user_guide/indexing.html#returning-a-view-versus-a-copy\n",
            "  This is separate from the ipykernel package so we can avoid doing imports until\n"
          ]
        }
      ],
      "source": [
        "#Aplicação do filtro\n",
        "for i in range(0, len(obs_durante)):\n",
        "    for k in range(0, len(labels)):\n",
        "        obs_durante[i][labels[k]] = filtragem(ord,f_pa, f_pb, Fs, obs_durante[i][labels[k]])\n",
        "        obs_antes[i][labels[k]] = filtragem(ord,f_pa, f_pb, Fs, obs_antes[i][labels[k]])"
      ]
    },
    {
      "cell_type": "markdown",
      "source": [
        "##Pré-processamento\n",
        "\n",
        "Durante o pré-processamento, foi realizada a segmentação de sinal com sobreposição para conseguir realizar o data augmentation."
      ],
      "metadata": {
        "id": "62oawdgoM9-c"
      }
    },
    {
      "cell_type": "markdown",
      "source": [
        "Inicialmente cada sinal, foi separado em janelas de 20s com sobreposição de 10s."
      ],
      "metadata": {
        "id": "gujHCXiRO-do"
      }
    },
    {
      "cell_type": "code",
      "execution_count": null,
      "metadata": {
        "id": "MkLPIcQwn0tr"
      },
      "outputs": [],
      "source": [
        "obs_seg_durante = [None] * 6 *  len(obs_durante)\n",
        "li = 0\n",
        "lf = 20\n",
        "k = 0\n",
        "for i in range(0, len(obs_durante)):\n",
        "    li = 0\n",
        "    lf = 20\n",
        "    for j in range(0,6):\n",
        "        if( obs_durante[i].loc[li * Fs + 1: lf * Fs].shape[0] != 10000):\n",
        "            break\n",
        "        obs_seg_durante[k] = obs_durante[i].loc[li * Fs + 1: lf * Fs].reset_index(drop=True)\n",
        "        li+=10\n",
        "        lf+=10\n",
        "        k+=1\n",
        "obs_seg_durante = [ ele for ele in obs_seg_durante if ele is not None ]"
      ]
    },
    {
      "cell_type": "code",
      "execution_count": null,
      "metadata": {
        "colab": {
          "base_uri": "https://localhost:8080/"
        },
        "id": "4DUZ0Cmnn0wV",
        "outputId": "95b6baef-6d9d-4e79-b428-ba732f168172"
      },
      "outputs": [
        {
          "output_type": "execute_result",
          "data": {
            "text/plain": [
              "180"
            ]
          },
          "metadata": {},
          "execution_count": 19
        }
      ],
      "source": [
        "len(obs_seg_durante)"
      ]
    },
    {
      "cell_type": "code",
      "execution_count": null,
      "metadata": {
        "id": "FtElrK3Vn0zf"
      },
      "outputs": [],
      "source": [
        "obs_seg_antes = [None] * 18 *  len(obs_antes)\n",
        "li = 0\n",
        "lf = 20\n",
        "k = 0\n",
        "for i in range(0, len(obs_antes)):\n",
        "    li = 0\n",
        "    lf = 20\n",
        "    for j in range(0,18):\n",
        "        if( obs_antes[i].loc[li * Fs + 1: lf * Fs].shape[0] != 10000):\n",
        "            break\n",
        "        obs_seg_antes[k] = obs_antes[i].loc[li * Fs + 1: lf * Fs].reset_index(drop=True)\n",
        "        li+=10\n",
        "        lf+=10\n",
        "        k+=1\n",
        "obs_seg_antes = [ ele for ele in obs_seg_antes if ele is not None ]"
      ]
    },
    {
      "cell_type": "code",
      "execution_count": null,
      "metadata": {
        "colab": {
          "base_uri": "https://localhost:8080/"
        },
        "id": "Y-h3KvrIn01f",
        "outputId": "af91f6fc-5ee1-4785-8339-51952c50cc49"
      },
      "outputs": [
        {
          "output_type": "execute_result",
          "data": {
            "text/plain": [
              "599"
            ]
          },
          "metadata": {},
          "execution_count": 21
        }
      ],
      "source": [
        "len(obs_seg_antes)"
      ]
    },
    {
      "cell_type": "markdown",
      "source": [
        "Após isso, cada janela de 20s. foi seccionnada em janelas de 0,5s com sobreposição de 0,25s."
      ],
      "metadata": {
        "id": "O8oUlmhhQyD9"
      }
    },
    {
      "cell_type": "code",
      "execution_count": null,
      "metadata": {
        "id": "Wjx-HPYSn03p"
      },
      "outputs": [],
      "source": [
        "obs_seg_250_durante = [None] * 80 *  len(obs_seg_durante)\n",
        "k = 0\n",
        "for i in range(0, len(obs_seg_durante)):\n",
        "    li = 0\n",
        "    lf = 0.5\n",
        "    for j in range(0,80):\n",
        "        if( obs_seg_durante[i].loc[li * Fs + 1: lf * Fs].shape[0] != 250):\n",
        "            break\n",
        "        obs_seg_250_durante[k] = obs_seg_durante[i].loc[li * Fs + 1: lf * Fs].reset_index(drop=True)\n",
        "        li+=0.25\n",
        "        lf+=0.25\n",
        "        k+=1\n",
        "obs_seg_250_durante = [ ele for ele in obs_seg_250_durante if ele is not None ]"
      ]
    },
    {
      "cell_type": "code",
      "execution_count": null,
      "metadata": {
        "colab": {
          "base_uri": "https://localhost:8080/"
        },
        "id": "kDEWfUsJqNmZ",
        "outputId": "2bd6e4e0-55e1-4d62-f12b-2013a904b9a5"
      },
      "outputs": [
        {
          "output_type": "execute_result",
          "data": {
            "text/plain": [
              "14040"
            ]
          },
          "metadata": {},
          "execution_count": 23
        }
      ],
      "source": [
        "len(obs_seg_250_durante)"
      ]
    },
    {
      "cell_type": "code",
      "execution_count": null,
      "metadata": {
        "id": "VpTWezDRqNpT"
      },
      "outputs": [],
      "source": [
        "obs_seg_250_antes = [None] * 80 *  len(obs_seg_antes)\n",
        "k = 0\n",
        "for i in range(0, len(obs_seg_antes)):\n",
        "    li = 0\n",
        "    lf = 0.5\n",
        "    for j in range(0,80):\n",
        "        if( obs_seg_antes[i].loc[li * Fs + 1: lf * Fs].shape[0] != 250):\n",
        "            break\n",
        "        obs_seg_250_antes[k] = obs_seg_antes[i].loc[li * Fs + 1: lf * Fs].reset_index(drop=True)\n",
        "        li+=0.25\n",
        "        lf+=0.25\n",
        "        k+=1\n",
        "obs_seg_250_antes = [ ele for ele in obs_seg_250_antes if ele is not None ]"
      ]
    },
    {
      "cell_type": "code",
      "execution_count": null,
      "metadata": {
        "colab": {
          "base_uri": "https://localhost:8080/"
        },
        "id": "u23a2thNqNr0",
        "outputId": "83d03b80-877c-4ccc-cf33-83584513a3fa"
      },
      "outputs": [
        {
          "output_type": "execute_result",
          "data": {
            "text/plain": [
              "46722"
            ]
          },
          "metadata": {},
          "execution_count": 25
        }
      ],
      "source": [
        "len(obs_seg_250_antes)"
      ]
    },
    {
      "cell_type": "code",
      "execution_count": null,
      "metadata": {
        "id": "jyGOp3hkdZYu"
      },
      "outputs": [],
      "source": [
        "len(obs_seg_250_antes)\n",
        "arr_seg_250_antes = np.zeros((len(obs_seg_250_antes),250, 20))\n",
        "for i in range(0, len(obs_seg_250_antes)):\n",
        "    arr_seg_250_antes[i] = obs_seg_250_antes[i].to_numpy()"
      ]
    },
    {
      "cell_type": "code",
      "execution_count": null,
      "metadata": {
        "id": "gYim7CXjdezn"
      },
      "outputs": [],
      "source": [
        "len(obs_seg_250_durante)\n",
        "arr_seg_250_durante = np.zeros((len(obs_seg_250_durante),250, 20))\n",
        "for i in range(0, len(obs_seg_250_durante)):\n",
        "    arr_seg_250_durante[i] = obs_seg_250_durante[i].to_numpy()"
      ]
    },
    {
      "cell_type": "code",
      "source": [
        "arr_seg_250_durante.shape"
      ],
      "metadata": {
        "colab": {
          "base_uri": "https://localhost:8080/"
        },
        "id": "ulwSxdxLjOUa",
        "outputId": "73041d07-4b01-4c0b-a0cd-82fa2c96d107"
      },
      "execution_count": null,
      "outputs": [
        {
          "output_type": "execute_result",
          "data": {
            "text/plain": [
              "(14040, 250, 20)"
            ]
          },
          "metadata": {},
          "execution_count": 28
        }
      ]
    },
    {
      "cell_type": "markdown",
      "source": [
        "## Dados Modelo Convolucional\n",
        "\n",
        "Para o modelo 1, as janelas foram concatenadas na forma de matriz 20x250."
      ],
      "metadata": {
        "id": "vulcSj2AkiFg"
      }
    },
    {
      "cell_type": "code",
      "source": [
        "Array = np.concatenate([arr_seg_250_antes,arr_seg_250_durante])"
      ],
      "metadata": {
        "id": "uCGLUDS9kk-5"
      },
      "execution_count": null,
      "outputs": []
    },
    {
      "cell_type": "markdown",
      "source": [
        "### Salvando os dados"
      ],
      "metadata": {
        "id": "93ci5V-zTeMI"
      }
    },
    {
      "cell_type": "code",
      "source": [
        "!mkdir -p \"/DadosModelo2\""
      ],
      "metadata": {
        "id": "yS9Vzv00q5vt"
      },
      "execution_count": null,
      "outputs": []
    },
    {
      "cell_type": "code",
      "source": [
        "with open('/DadosModelo2/X_concat.npy', 'wb') as f:\n",
        "    np.save(f, Array)"
      ],
      "metadata": {
        "id": "wLRm808UlUE7"
      },
      "execution_count": null,
      "outputs": []
    },
    {
      "cell_type": "code",
      "source": [
        "!zip -r /content/BrennoDadosModelo2.zip /DadosModelo2"
      ],
      "metadata": {
        "colab": {
          "base_uri": "https://localhost:8080/"
        },
        "id": "1vpaeC-mrAoO",
        "outputId": "b2bb456c-e182-458e-bc29-eb6f94aff674"
      },
      "execution_count": null,
      "outputs": [
        {
          "output_type": "stream",
          "name": "stdout",
          "text": [
            "updating: DadosModelo2/ (stored 0%)\n",
            "updating: DadosModelo2/X_concat.npy (deflated 50%)\n"
          ]
        }
      ]
    },
    {
      "cell_type": "code",
      "source": [
        "!cp /content/BrennoDadosModelo2.zip /content/drive/MyDrive/DadosIC"
      ],
      "metadata": {
        "id": "2fibAF5frCJA"
      },
      "execution_count": null,
      "outputs": []
    },
    {
      "cell_type": "markdown",
      "source": [
        "##Dados Modelo LSTM\n",
        "Para a entrada do modelo LSTM, foram retiradas 8 características dos dados"
      ],
      "metadata": {
        "id": "eZ3Ps-TmTqEz"
      }
    },
    {
      "cell_type": "code",
      "execution_count": null,
      "metadata": {
        "id": "Y3Q24LC2qNvE"
      },
      "outputs": [],
      "source": [
        "del obs_seg_antes\n",
        "del obs_seg_durante"
      ]
    },
    {
      "cell_type": "markdown",
      "source": [
        "- Frequência Instantânea"
      ],
      "metadata": {
        "id": "KI48rjPuUUXm"
      }
    },
    {
      "cell_type": "code",
      "execution_count": null,
      "metadata": {
        "id": "0T_Jox1IqN6u"
      },
      "outputs": [],
      "source": [
        "from scipy.signal import hilbert, chirp"
      ]
    },
    {
      "cell_type": "code",
      "execution_count": null,
      "metadata": {
        "id": "wLQLa8FbqN9f"
      },
      "outputs": [],
      "source": [
        "freqinst_durante = np.zeros((len(arr_seg_250_durante),20, 249))\n",
        "for i in range(0,len(arr_seg_250_durante)):\n",
        "    for k in range(0,len(labels)):\n",
        "        analytic_signal = hilbert(arr_seg_250_durante[i][:, k])\n",
        "        amplitude_envelope = np.abs(analytic_signal)\n",
        "        instantaneous_phase = np.unwrap(np.angle(analytic_signal))\n",
        "        instantaneous_frequency = (np.diff(instantaneous_phase) /(2.0*np.pi) * Fs)\n",
        "        freqinst_durante[i][k] = instantaneous_frequency"
      ]
    },
    {
      "cell_type": "code",
      "execution_count": null,
      "metadata": {
        "id": "F3-xaWe8iVFM"
      },
      "outputs": [],
      "source": [
        "freqinst_antes= np.zeros((len(arr_seg_250_antes),20, 249))\n",
        "for i in range(0,len(arr_seg_250_antes)):\n",
        "    for k in range(0,len(labels)):\n",
        "        analytic_signal = hilbert(arr_seg_250_antes[i][:, k])\n",
        "        amplitude_envelope = np.abs(analytic_signal)\n",
        "        instantaneous_phase = np.unwrap(np.angle(analytic_signal))\n",
        "        instantaneous_frequency = (np.diff(instantaneous_phase) /(2.0*np.pi) * Fs)\n",
        "        freqinst_antes[i][k] = instantaneous_frequency"
      ]
    },
    {
      "cell_type": "markdown",
      "source": [
        "- Potência de banda em cada frequência"
      ],
      "metadata": {
        "id": "4sgpkTNJUgZ7"
      }
    },
    {
      "cell_type": "code",
      "execution_count": null,
      "metadata": {
        "id": "qbWEU9vXsz5E"
      },
      "outputs": [],
      "source": [
        "BandPower_gamma_antes = np.zeros((len(arr_seg_250_antes),20))\n",
        "BandPower_beta_antes = np.zeros((len(arr_seg_250_antes),20))\n",
        "BandPower_alfa_antes = np.zeros((len(arr_seg_250_antes),20))\n",
        "BandPower_theta_antes = np.zeros((len(arr_seg_250_antes),20))\n",
        "BandPower_delta_antes = np.zeros((len(arr_seg_250_antes),20))\n",
        "\n",
        "for i in range(0, len(arr_seg_250_antes)):\n",
        "    for j in range(0, 20):\n",
        "        freqs, psd = signal.welch(arr_seg_250_antes[i][:, j], Fs)\n",
        "        BandPower_gamma_antes[i][j]  = np.trapz(y = psd[15:] , x = freqs[15:])\n",
        "        BandPower_beta_antes[i][j] = np.trapz(y = psd[6:15] , x = freqs[6:15])\n",
        "        BandPower_alfa_antes[i][j] = np.trapz(y = psd[4:6] , x = freqs[4:6])\n",
        "        BandPower_theta_antes[i][j] = np.trapz(y = psd[2:4] , x = freqs[2:4])\n",
        "        BandPower_delta_antes[i][j] = np.trapz(y = psd[0:2] , x = freqs[0:2])"
      ]
    },
    {
      "cell_type": "code",
      "execution_count": null,
      "metadata": {
        "id": "GvX9wXDFIHEJ"
      },
      "outputs": [],
      "source": [
        "BandPower_gamma_durante = np.zeros((len(arr_seg_250_durante),20))\n",
        "BandPower_beta_durante = np.zeros((len(arr_seg_250_durante),20))\n",
        "BandPower_alfa_durante = np.zeros((len(arr_seg_250_durante),20))\n",
        "BandPower_theta_durante = np.zeros((len(arr_seg_250_durante),20))\n",
        "BandPower_delta_durante = np.zeros((len(arr_seg_250_durante),20))\n",
        "\n",
        "for i in range(0, len(arr_seg_250_durante)):\n",
        "    for j in range(0, 20):\n",
        "        freqs, psd = signal.welch(arr_seg_250_durante[i][:, j], Fs)\n",
        "        BandPower_gamma_durante[i][j]  = np.trapz(y = psd[15:] , x = freqs[15:])\n",
        "        BandPower_beta_durante[i][j] = np.trapz(y = psd[6:15] , x = freqs[6:15])\n",
        "        BandPower_alfa_durante[i][j] = np.trapz(y = psd[4:6] , x = freqs[4:6])\n",
        "        BandPower_theta_durante[i][j] = np.trapz(y = psd[2:4] , x = freqs[2:4])\n",
        "        BandPower_delta_durante[i][j] = np.trapz(y = psd[0:2] , x = freqs[0:2])"
      ]
    },
    {
      "cell_type": "markdown",
      "source": [
        "- Média"
      ],
      "metadata": {
        "id": "9_i85K_MUob9"
      }
    },
    {
      "cell_type": "code",
      "execution_count": null,
      "metadata": {
        "id": "sxgjfUkTbp_J"
      },
      "outputs": [],
      "source": [
        "Media_durante = np.zeros((len(arr_seg_250_durante),20))\n",
        "for i in range(0, len(arr_seg_250_durante)):\n",
        "    for j in range(0, 20):\n",
        "        Media_durante[i][j] = arr_seg_250_durante[i][:, j].mean()"
      ]
    },
    {
      "cell_type": "code",
      "execution_count": null,
      "metadata": {
        "id": "EdRuhoNLbqCE"
      },
      "outputs": [],
      "source": [
        "Media_antes = np.zeros((len(arr_seg_250_antes),20))\n",
        "for i in range(0, len(arr_seg_250_antes)):\n",
        "    for j in range(0, 20):\n",
        "        Media_antes[i][j] = arr_seg_250_antes[i][:, j].mean()"
      ]
    },
    {
      "cell_type": "markdown",
      "source": [
        "- Desvio"
      ],
      "metadata": {
        "id": "JY16vHwYUt3D"
      }
    },
    {
      "cell_type": "code",
      "execution_count": null,
      "metadata": {
        "id": "kGn_8LRTcJqa"
      },
      "outputs": [],
      "source": [
        "desvio_antes = np.zeros((len(arr_seg_250_antes),20))\n",
        "for i in range(0, len(arr_seg_250_antes)):\n",
        "    for j in range(0, 20):\n",
        "        desvio_antes[i][j] = arr_seg_250_antes[i][:, j].std()"
      ]
    },
    {
      "cell_type": "code",
      "execution_count": null,
      "metadata": {
        "id": "S42XLoGhcJuM"
      },
      "outputs": [],
      "source": [
        "desvio_durante = np.zeros((len(arr_seg_250_durante),20))\n",
        "for i in range(0, len(arr_seg_250_durante)):\n",
        "    for j in range(0, 20):\n",
        "        desvio_durante[i][j] = arr_seg_250_durante[i][:, j].std()"
      ]
    },
    {
      "cell_type": "markdown",
      "source": [
        "Após a retirada de características, todas as características foram concatenadas"
      ],
      "metadata": {
        "id": "ndk9SAH1AfIb"
      }
    },
    {
      "cell_type": "code",
      "source": [
        "BandPower_alfa = np.concatenate((BandPower_alfa_antes, BandPower_alfa_durante), axis=0)\n",
        "BandPower_beta = np.concatenate((BandPower_beta_antes,BandPower_beta_durante), axis=0)\n",
        "BandPower_delta = np.concatenate((BandPower_delta_antes, BandPower_delta_durante), axis=0)\n",
        "BandPower_gamma = np.concatenate((BandPower_gamma_antes, BandPower_gamma_durante), axis=0)\n",
        "BandPower_theta = np.concatenate((BandPower_theta_antes, BandPower_theta_durante), axis=0)\n",
        "Media = np.concatenate((Media_antes, Media_durante), axis=0)\n",
        "Desvio = np.concatenate((desvio_antes, desvio_durante), axis=0)\n",
        "freqinst = np.concatenate((freqinst_antes, freqinst_durante), axis=0)"
      ],
      "metadata": {
        "id": "9ezTe5rX_pxR"
      },
      "execution_count": null,
      "outputs": []
    },
    {
      "cell_type": "code",
      "source": [
        "freqinst = freqinst[:,[0,4,13,18]]\n",
        "Media = Media[:,[0,4,13,18]]\n",
        "Desvio = Desvio[:,[0,4,13,18]]\n",
        "BandPower_alfa = BandPower_alfa[:,[0,4,13,18]]\n",
        "BandPower_beta = BandPower_beta[:,[0,4,13,18]]\n",
        "BandPower_delta = BandPower_delta[:,[0,4,13,18]]\n",
        "BandPower_gamma = BandPower_gamma[:,[0,4,13,18]]\n",
        "BandPower_theta = BandPower_theta[:,[0,4,13,18]]"
      ],
      "metadata": {
        "id": "jEL_tO2X_uoL"
      },
      "execution_count": null,
      "outputs": []
    },
    {
      "cell_type": "code",
      "source": [
        "freqinst = freqinst.reshape((60762, 4 * 249))"
      ],
      "metadata": {
        "id": "nLSSeN4WYj5l"
      },
      "execution_count": null,
      "outputs": []
    },
    {
      "cell_type": "code",
      "source": [
        "X = np.concatenate([Media, Desvio, BandPower_alfa, BandPower_beta, BandPower_delta, BandPower_gamma, BandPower_theta,freqinst], axis = 1)"
      ],
      "metadata": {
        "id": "pTzYwut8_utw"
      },
      "execution_count": null,
      "outputs": []
    },
    {
      "cell_type": "code",
      "source": [
        "y = np.concatenate((np.zeros(freqinst_antes.shape[0]), np.ones(freqinst_durante.shape[0])), axis=0)"
      ],
      "metadata": {
        "id": "NFnS_KAQAbTA"
      },
      "execution_count": null,
      "outputs": []
    },
    {
      "cell_type": "markdown",
      "source": [
        "### Salvamentos do dados sobre o modelo Convolucional"
      ],
      "metadata": {
        "id": "l9Ikg6F9Vnmg"
      }
    },
    {
      "cell_type": "code",
      "source": [
        "!mkdir -p \"/DadosModelo1\""
      ],
      "metadata": {
        "id": "r9cWdzIFAxTa"
      },
      "execution_count": null,
      "outputs": []
    },
    {
      "cell_type": "code",
      "source": [
        "with open('/DadosModelo1/X_modelo1.npy', 'wb') as f:\n",
        "    np.save(f, X)\n",
        "with open('/DadosModelo1/y_modelo1.npy', 'wb') as f:\n",
        "    np.save(f, y)"
      ],
      "metadata": {
        "id": "30anQqxGAiV0"
      },
      "execution_count": null,
      "outputs": []
    },
    {
      "cell_type": "code",
      "source": [
        "!zip -r '/content/BrennoDadosModelo1.zip' '/DadosModelo1'"
      ],
      "metadata": {
        "id": "TnmfFXM4BLCZ"
      },
      "execution_count": null,
      "outputs": []
    },
    {
      "cell_type": "code",
      "source": [
        "!cp '/content/BrennoDadosModelo1.zip' '/content/drive/MyDrive/DadosIC'"
      ],
      "metadata": {
        "id": "J3pPvM5uBZUv"
      },
      "execution_count": null,
      "outputs": []
    }
  ],
  "metadata": {
    "accelerator": "GPU",
    "colab": {
      "collapsed_sections": [
        "DdM2owSBJ19V",
        "wXDfh8dzLgRj",
        "62oawdgoM9-c",
        "vulcSj2AkiFg",
        "93ci5V-zTeMI",
        "eZ3Ps-TmTqEz",
        "l9Ikg6F9Vnmg"
      ],
      "provenance": []
    },
    "gpuClass": "standard",
    "kernelspec": {
      "display_name": "Python 3",
      "name": "python3"
    },
    "language_info": {
      "name": "python"
    }
  },
  "nbformat": 4,
  "nbformat_minor": 0
}